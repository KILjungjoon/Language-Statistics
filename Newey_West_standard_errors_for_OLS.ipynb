{
  "nbformat": 4,
  "nbformat_minor": 0,
  "metadata": {
    "colab": {
      "provenance": [],
      "authorship_tag": "ABX9TyOR0sJ48M9eJ80hvU77UmBR",
      "include_colab_link": true
    },
    "kernelspec": {
      "name": "python3",
      "display_name": "Python 3"
    },
    "language_info": {
      "name": "python"
    }
  },
  "cells": [
    {
      "cell_type": "markdown",
      "metadata": {
        "id": "view-in-github",
        "colab_type": "text"
      },
      "source": [
        "<a href=\"https://colab.research.google.com/github/KILjungjoon/Language-Statistics/blob/main/Newey_West_standard_errors_for_OLS.ipynb\" target=\"_parent\"><img src=\"https://colab.research.google.com/assets/colab-badge.svg\" alt=\"Open In Colab\"/></a>"
      ]
    },
    {
      "cell_type": "markdown",
      "source": [
        "* https://stackoverflow.com/questions/23420454/newey-west-standard-errors-for-ols-in-python"
      ],
      "metadata": {
        "id": "aSHXADu-EZx0"
      }
    },
    {
      "cell_type": "code",
      "execution_count": 1,
      "metadata": {
        "colab": {
          "base_uri": "https://localhost:8080/"
        },
        "id": "Z_mUanPSEA1V",
        "outputId": "10c91686-1eb5-409d-dab5-8325837f512f"
      },
      "outputs": [
        {
          "output_type": "stream",
          "name": "stdout",
          "text": [
            "                            OLS Regression Results                            \n",
            "==============================================================================\n",
            "Dep. Variable:                      a   R-squared:                       0.281\n",
            "Model:                            OLS   Adj. R-squared:                  0.201\n",
            "Method:                 Least Squares   F-statistic:                     1.949\n",
            "Date:                Fri, 23 Dec 2022   Prob (F-statistic):              0.196\n",
            "Time:                        17:39:22   Log-Likelihood:                -22.603\n",
            "No. Observations:                  11   AIC:                             49.21\n",
            "Df Residuals:                       9   BIC:                             50.00\n",
            "Df Model:                           1                                         \n",
            "Covariance Type:                  HAC                                         \n",
            "==============================================================================\n",
            "                 coef    std err          z      P>|z|      [0.025      0.975]\n",
            "------------------------------------------------------------------------------\n",
            "Intercept      2.0576      2.661      0.773      0.439      -3.157       7.272\n",
            "b              0.5595      0.401      1.396      0.163      -0.226       1.345\n",
            "==============================================================================\n",
            "Omnibus:                        0.361   Durbin-Watson:                   1.468\n",
            "Prob(Omnibus):                  0.835   Jarque-Bera (JB):                0.331\n",
            "Skew:                           0.321   Prob(JB):                        0.847\n",
            "Kurtosis:                       2.442   Cond. No.                         19.1\n",
            "==============================================================================\n",
            "\n",
            "Notes:\n",
            "[1] Standard Errors are heteroscedasticity and autocorrelation robust (HAC) using 1 lags and without small sample correction\n"
          ]
        },
        {
          "output_type": "stream",
          "name": "stderr",
          "text": [
            "/usr/local/lib/python3.8/dist-packages/scipy/stats/stats.py:1541: UserWarning: kurtosistest only valid for n>=20 ... continuing anyway, n=11\n",
            "  warnings.warn(\"kurtosistest only valid for n>=20 ... continuing \"\n"
          ]
        }
      ],
      "source": [
        "# with statsmodels\n",
        "import pandas as pd\n",
        "import numpy as np\n",
        "import statsmodels.formula.api as smf\n",
        "\n",
        "df = pd.DataFrame({'a':[1,3,5,7,4,5,6,4,7,8,9],\n",
        "                   'b':[3,5,6,2,4,6,7,8,7,8,9]})\n",
        "\n",
        "reg = smf.ols('a ~ 1 + b',data=df).fit(cov_type='HAC',cov_kwds={'maxlags':1})\n",
        "print(reg.summary())"
      ]
    },
    {
      "cell_type": "code",
      "source": [
        "# using get_robustcov_results method after fitting the model\n",
        "reg = smf.ols('a ~ 1 + b',data=df).fit()\n",
        "new = reg.get_robustcov_results(cov_type='HAC',maxlags=1)\n",
        "print(new.summary())"
      ],
      "metadata": {
        "colab": {
          "base_uri": "https://localhost:8080/"
        },
        "id": "JDyvy90fElX9",
        "outputId": "1d1abaf7-15f0-4d3a-e00d-6909341c4000"
      },
      "execution_count": 2,
      "outputs": [
        {
          "output_type": "stream",
          "name": "stdout",
          "text": [
            "                            OLS Regression Results                            \n",
            "==============================================================================\n",
            "Dep. Variable:                      a   R-squared:                       0.281\n",
            "Model:                            OLS   Adj. R-squared:                  0.201\n",
            "Method:                 Least Squares   F-statistic:                     1.949\n",
            "Date:                Fri, 23 Dec 2022   Prob (F-statistic):              0.196\n",
            "Time:                        17:41:46   Log-Likelihood:                -22.603\n",
            "No. Observations:                  11   AIC:                             49.21\n",
            "Df Residuals:                       9   BIC:                             50.00\n",
            "Df Model:                           1                                         \n",
            "Covariance Type:                  HAC                                         \n",
            "==============================================================================\n",
            "                 coef    std err          t      P>|t|      [0.025      0.975]\n",
            "------------------------------------------------------------------------------\n",
            "Intercept      2.0576      2.661      0.773      0.459      -3.961       8.076\n",
            "b              0.5595      0.401      1.396      0.196      -0.347       1.466\n",
            "==============================================================================\n",
            "Omnibus:                        0.361   Durbin-Watson:                   1.468\n",
            "Prob(Omnibus):                  0.835   Jarque-Bera (JB):                0.331\n",
            "Skew:                           0.321   Prob(JB):                        0.847\n",
            "Kurtosis:                       2.442   Cond. No.                         19.1\n",
            "==============================================================================\n",
            "\n",
            "Notes:\n",
            "[1] Standard Errors are heteroscedasticity and autocorrelation robust (HAC) using 1 lags and without small sample correction\n"
          ]
        },
        {
          "output_type": "stream",
          "name": "stderr",
          "text": [
            "/usr/local/lib/python3.8/dist-packages/scipy/stats/stats.py:1541: UserWarning: kurtosistest only valid for n>=20 ... continuing anyway, n=11\n",
            "  warnings.warn(\"kurtosistest only valid for n>=20 ... continuing \"\n"
          ]
        }
      ]
    },
    {
      "cell_type": "code",
      "source": [
        "# using Newey-West in pandas\n",
        "from scipy import stats, optimize, interpolate\n",
        "import scipy\n",
        "\n",
        "pd.stats.ols.OLS(df.a,df.b,nw_lags=1)"
      ],
      "metadata": {
        "id": "hZl87BlxFBfB"
      },
      "execution_count": null,
      "outputs": []
    }
  ]
}